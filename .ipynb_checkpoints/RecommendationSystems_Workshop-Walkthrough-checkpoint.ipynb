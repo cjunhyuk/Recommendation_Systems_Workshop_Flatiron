{
 "cells": [
  {
   "cell_type": "markdown",
   "id": "c883fff9",
   "metadata": {},
   "source": [
    "# Recommendation Systems "
   ]
  },
  {
   "cell_type": "markdown",
   "id": "ce0e665e",
   "metadata": {},
   "source": [
    "### How does Netflix know what Moie/Show to Recommend to You?  How does Amazon know what Product(s) you may like?  How can Spotify suggest new Artists/Music to you? \n",
    "\n",
    "### Yup, you guessed it Recommendation Systems!!! \n",
    "\n",
    "#### When looking at the Netflix diagram, we see Netflix uses several features (or characteristics) to determine the best recommendations for you.  "
   ]
  },
  {
   "cell_type": "markdown",
   "id": "30d20ef1",
   "metadata": {},
   "source": [
    "![NetFlixFlowChart](images/netflix_recommender.jpeg)"
   ]
  },
  {
   "cell_type": "markdown",
   "id": "84bb2a6f",
   "metadata": {},
   "source": [
    "[Blog on Netflix Recommender Systems & Image Source Link](https://medium.com/analytics-vidhya/building-a-netflix-recommendation-system-7b1fec90f83e)"
   ]
  },
  {
   "cell_type": "markdown",
   "id": "ddea5902",
   "metadata": {},
   "source": [
    "## How does a Company Recommend Products/Services to You?"
   ]
  },
  {
   "cell_type": "markdown",
   "id": "fb04c44d",
   "metadata": {},
   "source": [
    "### Recommender systems can be classified along various lines. One fundamental distinction is content-based vs. collaborative-filtering systems.\n",
    "\n",
    "### To illustrate this, consider two different strategies: (a) I recommend items to you that are similar to other items you've used/bought/read/watched; and (b) I recommend items to you that people similar to you have used/bought/read/watched. The first is the content-based strategy; the second is the collaborative-filtering strategy."
   ]
  },
  {
   "cell_type": "markdown",
   "id": "16918500",
   "metadata": {},
   "source": [
    "## How can we know what is 'similar' or not? "
   ]
  },
  {
   "cell_type": "markdown",
   "id": "0555091a",
   "metadata": {},
   "source": [
    "### Math!  Cosine Similarity, Pearson Correlation Coefficient, and Matrix Factorization are all ways to calculate 'similarity'.  Don't worry we won't calculate anything by hand or dive deep into the math -- we will let Python do that for us! "
   ]
  },
  {
   "cell_type": "markdown",
   "id": "e8104213",
   "metadata": {},
   "source": [
    "![NetFlixScreen](images/netflixscreen_recommender.jpeg)"
   ]
  },
  {
   "cell_type": "markdown",
   "id": "8244bcab",
   "metadata": {},
   "source": [
    "[Blog Personalizing Movie Recommendations & Image Source](https://www.topbots.com/netflix-movie-recommender-system-rework/)"
   ]
  },
  {
   "cell_type": "markdown",
   "id": "a7c39d13",
   "metadata": {},
   "source": [
    "## Pre-Face:  Getting the Packages We Need to Get Started"
   ]
  },
  {
   "cell_type": "code",
   "execution_count": null,
   "id": "43a74acb",
   "metadata": {},
   "outputs": [],
   "source": [
    "#Installing Packages \n",
    "\n",
    "# !pip install numpy\n",
    "# !pip install pandas\n",
    "# !pip install surprise"
   ]
  },
  {
   "cell_type": "code",
   "execution_count": 1,
   "id": "5ec1acda",
   "metadata": {},
   "outputs": [],
   "source": [
    "# Import libraries\n",
    "\n",
    "import numpy as np\n",
    "import pandas as pd\n",
    "import matplotlib.pyplot as plt\n",
    "\n",
    "from collections import Counter\n",
    "\n",
    "from surprise import Dataset, Reader\n",
    "from surprise import SVD\n",
    "from surprise import accuracy\n",
    "from surprise.model_selection import cross_validate, train_test_split"
   ]
  },
  {
   "cell_type": "markdown",
   "id": "eeb7295c",
   "metadata": {},
   "source": [
    "## 1). Read in data and perform Exploratory Data Analysis (EDA)"
   ]
  },
  {
   "cell_type": "markdown",
   "id": "6d28be56",
   "metadata": {},
   "source": [
    "Source of Data:  [Kaggle](https://www.kaggle.com/rounakbanik/the-movies-dataset) "
   ]
  },
  {
   "cell_type": "code",
   "execution_count": 2,
   "id": "9999bac8",
   "metadata": {},
   "outputs": [
    {
     "name": "stdout",
     "output_type": "stream",
     "text": [
      "(100004, 4)\n"
     ]
    },
    {
     "data": {
      "text/html": [
       "<div>\n",
       "<style scoped>\n",
       "    .dataframe tbody tr th:only-of-type {\n",
       "        vertical-align: middle;\n",
       "    }\n",
       "\n",
       "    .dataframe tbody tr th {\n",
       "        vertical-align: top;\n",
       "    }\n",
       "\n",
       "    .dataframe thead th {\n",
       "        text-align: right;\n",
       "    }\n",
       "</style>\n",
       "<table border=\"1\" class=\"dataframe\">\n",
       "  <thead>\n",
       "    <tr style=\"text-align: right;\">\n",
       "      <th></th>\n",
       "      <th>userId</th>\n",
       "      <th>movieId</th>\n",
       "      <th>rating</th>\n",
       "      <th>timestamp</th>\n",
       "    </tr>\n",
       "  </thead>\n",
       "  <tbody>\n",
       "    <tr>\n",
       "      <th>0</th>\n",
       "      <td>1</td>\n",
       "      <td>31</td>\n",
       "      <td>2.5</td>\n",
       "      <td>1260759144</td>\n",
       "    </tr>\n",
       "    <tr>\n",
       "      <th>1</th>\n",
       "      <td>1</td>\n",
       "      <td>1029</td>\n",
       "      <td>3.0</td>\n",
       "      <td>1260759179</td>\n",
       "    </tr>\n",
       "    <tr>\n",
       "      <th>2</th>\n",
       "      <td>1</td>\n",
       "      <td>1061</td>\n",
       "      <td>3.0</td>\n",
       "      <td>1260759182</td>\n",
       "    </tr>\n",
       "    <tr>\n",
       "      <th>3</th>\n",
       "      <td>1</td>\n",
       "      <td>1129</td>\n",
       "      <td>2.0</td>\n",
       "      <td>1260759185</td>\n",
       "    </tr>\n",
       "    <tr>\n",
       "      <th>4</th>\n",
       "      <td>1</td>\n",
       "      <td>1172</td>\n",
       "      <td>4.0</td>\n",
       "      <td>1260759205</td>\n",
       "    </tr>\n",
       "    <tr>\n",
       "      <th>5</th>\n",
       "      <td>1</td>\n",
       "      <td>1263</td>\n",
       "      <td>2.0</td>\n",
       "      <td>1260759151</td>\n",
       "    </tr>\n",
       "    <tr>\n",
       "      <th>6</th>\n",
       "      <td>1</td>\n",
       "      <td>1287</td>\n",
       "      <td>2.0</td>\n",
       "      <td>1260759187</td>\n",
       "    </tr>\n",
       "    <tr>\n",
       "      <th>7</th>\n",
       "      <td>1</td>\n",
       "      <td>1293</td>\n",
       "      <td>2.0</td>\n",
       "      <td>1260759148</td>\n",
       "    </tr>\n",
       "    <tr>\n",
       "      <th>8</th>\n",
       "      <td>1</td>\n",
       "      <td>1339</td>\n",
       "      <td>3.5</td>\n",
       "      <td>1260759125</td>\n",
       "    </tr>\n",
       "    <tr>\n",
       "      <th>9</th>\n",
       "      <td>1</td>\n",
       "      <td>1343</td>\n",
       "      <td>2.0</td>\n",
       "      <td>1260759131</td>\n",
       "    </tr>\n",
       "  </tbody>\n",
       "</table>\n",
       "</div>"
      ],
      "text/plain": [
       "   userId  movieId  rating   timestamp\n",
       "0       1       31     2.5  1260759144\n",
       "1       1     1029     3.0  1260759179\n",
       "2       1     1061     3.0  1260759182\n",
       "3       1     1129     2.0  1260759185\n",
       "4       1     1172     4.0  1260759205\n",
       "5       1     1263     2.0  1260759151\n",
       "6       1     1287     2.0  1260759187\n",
       "7       1     1293     2.0  1260759148\n",
       "8       1     1339     3.5  1260759125\n",
       "9       1     1343     2.0  1260759131"
      ]
     },
     "execution_count": 2,
     "metadata": {},
     "output_type": "execute_result"
    }
   ],
   "source": [
    "df =  # pandas' read_csv function\n",
    "print() # how many rows, columns are in the dataframe\n",
    " # previewing the first 10 rows "
   ]
  },
  {
   "cell_type": "markdown",
   "id": "e180a6bf",
   "metadata": {},
   "source": [
    "### a) Ratings"
   ]
  },
  {
   "cell_type": "code",
   "execution_count": 3,
   "id": "60d4e17f",
   "metadata": {},
   "outputs": [
    {
     "data": {
      "text/plain": [
       "4.0    28750\n",
       "3.0    20064\n",
       "5.0    15095\n",
       "3.5    10538\n",
       "4.5     7723\n",
       "2.0     7271\n",
       "2.5     4449\n",
       "1.0     3326\n",
       "1.5     1687\n",
       "0.5     1101\n",
       "Name: rating, dtype: int64"
      ]
     },
     "execution_count": 3,
     "metadata": {},
     "output_type": "execute_result"
    }
   ],
   "source": [
    "# value_counts() shows us how many times each value appears in a column\n",
    "ratings = \n",
    "ratings"
   ]
  },
  {
   "cell_type": "code",
   "execution_count": 15,
   "id": "bf0e32ee",
   "metadata": {},
   "outputs": [
    {
     "data": {
      "image/png": "[encoded data removed]",
      "text/plain": [
       "<Figure size 432x288 with 1 Axes>"
      ]
     },
     "metadata": {
      "needs_background": "light"
     },
     "output_type": "display_data"
    }
   ],
   "source": [
    "#visualize the ratings\n",
    "ratings_sorted = sorted(list(zip(ratings.index, ratings)))\n",
    "plt.bar([r[0] for r in ratings_sorted], [r[1] for r in ratings_sorted], color='blue')\n",
    "plt.xlabel(\"Rating\")\n",
    "plt.ylabel(\"# of Ratings\")\n",
    "plt.title(\"Distribution of Ratings\")\n",
    "plt.show()"
   ]
  },
  {
   "cell_type": "markdown",
   "id": "3fa05db6",
   "metadata": {},
   "source": [
    "## b) Users"
   ]
  },
  {
   "cell_type": "code",
   "execution_count": 5,
   "id": "6acc2eb5",
   "metadata": {},
   "outputs": [
    {
     "name": "stdout",
     "output_type": "stream",
     "text": [
      "Number of users:  671\n",
      "Average Number of Reviews per User:  149.03725782414307\n"
     ]
    }
   ],
   "source": [
    "print(\"Number of users: \", df.userId.nunique()) \n",
    "print(\"Average Number of Reviews per User: \", df.shape[0]/df.userId.nunique())"
   ]
  },
  {
   "cell_type": "code",
   "execution_count": 6,
   "id": "0573e711",
   "metadata": {},
   "outputs": [
    {
     "data": {
      "image/png": "[encoded data removed]",
      "text/plain": [
       "<Figure size 432x288 with 1 Axes>"
      ]
     },
     "metadata": {
      "needs_background": "light"
     },
     "output_type": "display_data"
    }
   ],
   "source": [
    "#visualize it\n",
    "\n",
    "ratings_per_user = df['userId'].value_counts()\n",
    "ratings_per_user = sorted(list(zip(ratings_per_user.index, ratings_per_user)))\n",
    "plt.bar([r[0] for r in ratings_per_user], [r[1] for r in ratings_per_user], color='orange')\n",
    "plt.xlabel(\"User IDs\")\n",
    "plt.ylabel(\"# of Reviews\")\n",
    "plt.title(\"Number of Reviews per User\")\n",
    "plt.show()"
   ]
  },
  {
   "cell_type": "markdown",
   "id": "0ccd9651",
   "metadata": {},
   "source": [
    "## c) Movies"
   ]
  },
  {
   "cell_type": "code",
   "execution_count": 7,
   "id": "75a06d2a",
   "metadata": {},
   "outputs": [
    {
     "name": "stdout",
     "output_type": "stream",
     "text": [
      "Number of movies:  9066\n",
      "Average Number of Reviews per Movie:  11.030664019413193\n"
     ]
    }
   ],
   "source": [
    "print(\"Number of movies: \", df.movieId.nunique())\n",
    "print(\"Average Number of Reviews per Movie: \", df.shape[0]/df.movieId.nunique())"
   ]
  },
  {
   "cell_type": "code",
   "execution_count": 8,
   "id": "300c190c",
   "metadata": {},
   "outputs": [
    {
     "data": {
      "text/plain": [
       "356     341\n",
       "296     324\n",
       "318     311\n",
       "593     304\n",
       "260     291\n",
       "480     274\n",
       "2571    259\n",
       "1       247\n",
       "527     244\n",
       "589     237\n",
       "Name: movieId, dtype: int64"
      ]
     },
     "execution_count": 8,
     "metadata": {},
     "output_type": "execute_result"
    }
   ],
   "source": [
    "#movieID value counts"
   ]
  },
  {
   "cell_type": "markdown",
   "id": "c8cdb27e",
   "metadata": {},
   "source": [
    "## 2) Implementing Surprise's SVD"
   ]
  },
  {
   "cell_type": "markdown",
   "id": "cb9b1e7d",
   "metadata": {},
   "source": [
    "Source:  [SVD Info](https://surprise.readthedocs.io/en/stable/matrix_factorization.html#surprise.prediction_algorithms.matrix_factorization.SVD)"
   ]
  },
  {
   "cell_type": "code",
   "execution_count": 9,
   "id": "0b34b7e8",
   "metadata": {},
   "outputs": [],
   "source": [
    "# for Surprise, we only need three columns from the dataset\n",
    "data = df[['userId', 'movieId', 'rating']]\n",
    "reader = Reader(line_format='user item rating', sep=',')\n",
    "data = Dataset.load_from_df(data, reader=reader)\n",
    "\n",
    "# train-test-split\n",
    "trainset, testset = train_test_split(data, test_size=.2)"
   ]
  },
  {
   "cell_type": "code",
   "execution_count": 10,
   "id": "25601863",
   "metadata": {},
   "outputs": [
    {
     "data": {
      "text/plain": [
       "<surprise.prediction_algorithms.matrix_factorization.SVD at 0x7faa8e000a90>"
      ]
     },
     "execution_count": 10,
     "metadata": {},
     "output_type": "execute_result"
    }
   ],
   "source": [
    "# instantiate SVD and fit the trainset\n",
    "svd = SVD()\n",
    "svd.fit(trainset)"
   ]
  },
  {
   "cell_type": "code",
   "execution_count": 11,
   "id": "816e5714",
   "metadata": {},
   "outputs": [
    {
     "name": "stdout",
     "output_type": "stream",
     "text": [
      "RMSE: 0.8952\n"
     ]
    },
    {
     "data": {
      "text/plain": [
       "0.895161674073376"
      ]
     },
     "execution_count": 11,
     "metadata": {},
     "output_type": "execute_result"
    }
   ],
   "source": [
    "predictions = svd.test(testset)\n",
    "accuracy.rmse(predictions)"
   ]
  },
  {
   "cell_type": "markdown",
   "id": "2e79dab5",
   "metadata": {},
   "source": [
    "## Making Predictions"
   ]
  },
  {
   "cell_type": "code",
   "execution_count": 12,
   "id": "86d506d9",
   "metadata": {},
   "outputs": [
    {
     "data": {
      "text/plain": [
       "[Prediction(uid=544, iid=86345, r_ui=5.0, est=4.384666210812155, details={'was_impossible': False}),\n",
       " Prediction(uid=388, iid=4720, r_ui=4.0, est=3.8841109348891827, details={'was_impossible': False}),\n",
       " Prediction(uid=461, iid=3868, r_ui=4.0, est=3.6012509080380295, details={'was_impossible': False}),\n",
       " Prediction(uid=306, iid=1590, r_ui=2.0, est=3.1105901689960125, details={'was_impossible': False}),\n",
       " Prediction(uid=157, iid=72998, r_ui=3.5, est=3.4529265739742074, details={'was_impossible': False}),\n",
       " Prediction(uid=493, iid=497, r_ui=2.0, est=4.0772964634473805, details={'was_impossible': False}),\n",
       " Prediction(uid=527, iid=858, r_ui=4.5, est=4.19370645992955, details={'was_impossible': False}),\n",
       " Prediction(uid=262, iid=6890, r_ui=3.0, est=2.437233010228029, details={'was_impossible': False}),\n",
       " Prediction(uid=73, iid=150, r_ui=3.5, est=4.018853049429888, details={'was_impossible': False}),\n",
       " Prediction(uid=426, iid=8132, r_ui=4.0, est=3.7033176499937546, details={'was_impossible': False})]"
      ]
     },
     "execution_count": 12,
     "metadata": {},
     "output_type": "execute_result"
    }
   ],
   "source": [
    "# taking a look at the first 10 rows of our test set\n",
    "predictions[:10]"
   ]
  },
  {
   "cell_type": "code",
   "execution_count": 13,
   "id": "702a1251",
   "metadata": {},
   "outputs": [
    {
     "name": "stdout",
     "output_type": "stream",
     "text": [
      "Number of users:  671\n",
      "Number of movies:  9066\n"
     ]
    }
   ],
   "source": [
    "print(\"Number of users: \", df.userId.nunique()) \n",
    "print(\"Number of movies: \", df.movieId.nunique()) "
   ]
  },
  {
   "cell_type": "code",
   "execution_count": 14,
   "id": "2daa8465",
   "metadata": {},
   "outputs": [
    {
     "data": {
      "text/plain": [
       "Prediction(uid=5, iid=100, r_ui=None, est=3.649578908118217, details={'was_impossible': False})"
      ]
     },
     "execution_count": 14,
     "metadata": {},
     "output_type": "execute_result"
    }
   ],
   "source": [
    "user = 5\n",
    "item = 100\n",
    "svd.predict(user, item)"
   ]
  }
 ],
 "metadata": {
  "kernelspec": {
   "display_name": "Python 3 (ipykernel)",
   "language": "python",
   "name": "python3"
  },
  "language_info": {
   "codemirror_mode": {
    "name": "ipython",
    "version": 3
   },
   "file_extension": ".py",
   "mimetype": "text/x-python",
   "name": "python",
   "nbconvert_exporter": "python",
   "pygments_lexer": "ipython3",
   "version": "3.8.12"
  }
 },
 "nbformat": 4,
 "nbformat_minor": 5
}
